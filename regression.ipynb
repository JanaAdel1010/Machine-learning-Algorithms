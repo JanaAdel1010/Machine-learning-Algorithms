{
 "cells": [
  {
   "cell_type": "markdown",
   "id": "1bac9ae982ccf50f",
   "metadata": {},
   "source": [
    "California Houses price Regression model"
   ]
  },
  {
   "cell_type": "markdown",
   "id": "a90855c6",
   "metadata": {},
   "source": [
    "Including needed libraries\n"
   ]
  },
  {
   "cell_type": "code",
   "execution_count": 138,
   "id": "e93c5e249cbae2fb",
   "metadata": {
    "ExecuteTime": {
     "end_time": "2024-10-27T15:57:17.733484Z",
     "start_time": "2024-10-27T15:57:17.730094Z"
    }
   },
   "outputs": [],
   "source": [
    "import pandas as pd\n",
    "import numpy as np\n",
    "from sklearn.linear_model import LinearRegression, Lasso, Ridge, RidgeCV, LassoCV\n",
    "from sklearn.metrics import mean_squared_error\n",
    "from sklearn.model_selection import train_test_split\n",
    "from sklearn.metrics import mean_absolute_error\n",
    "from sklearn.preprocessing import StandardScaler \n",
    "from sklearn.model_selection import GridSearchCV\n"
   ]
  },
  {
   "cell_type": "markdown",
   "id": "0102cef9",
   "metadata": {},
   "source": [
    "Reading data from the csv file and printing first 5 rows \n"
   ]
  },
  {
   "cell_type": "code",
   "execution_count": 139,
   "id": "92fa38c791da33f5",
   "metadata": {
    "ExecuteTime": {
     "end_time": "2024-10-27T15:57:18.697690Z",
     "start_time": "2024-10-27T15:57:18.644853Z"
    }
   },
   "outputs": [
    {
     "name": "stdout",
     "output_type": "stream",
     "text": [
      "   Median_House_Value  Median_Income  Median_Age  Tot_Rooms  Tot_Bedrooms  \\\n",
      "0            452600.0         8.3252          41        880           129   \n",
      "1            358500.0         8.3014          21       7099          1106   \n",
      "2            352100.0         7.2574          52       1467           190   \n",
      "3            341300.0         5.6431          52       1274           235   \n",
      "4            342200.0         3.8462          52       1627           280   \n",
      "\n",
      "   Population  Households  Latitude  Longitude  Distance_to_coast  \\\n",
      "0         322         126     37.88    -122.23        9263.040773   \n",
      "1        2401        1138     37.86    -122.22       10225.733072   \n",
      "2         496         177     37.85    -122.24        8259.085109   \n",
      "3         558         219     37.85    -122.25        7768.086571   \n",
      "4         565         259     37.85    -122.25        7768.086571   \n",
      "\n",
      "   Distance_to_LA  Distance_to_SanDiego  Distance_to_SanJose  \\\n",
      "0   556529.158342         735501.806984         67432.517001   \n",
      "1   554279.850069         733236.884360         65049.908574   \n",
      "2   554610.717069         733525.682937         64867.289833   \n",
      "3   555194.266086         734095.290744         65287.138412   \n",
      "4   555194.266086         734095.290744         65287.138412   \n",
      "\n",
      "   Distance_to_SanFrancisco  \n",
      "0              21250.213767  \n",
      "1              20880.600400  \n",
      "2              18811.487450  \n",
      "3              18031.047568  \n",
      "4              18031.047568  \n"
     ]
    }
   ],
   "source": [
    "data = pd.read_csv('California_Houses.csv', header=0)\n",
    "print(data.head())"
   ]
  },
  {
   "cell_type": "markdown",
   "id": "235cc865",
   "metadata": {},
   "source": [
    "Splitting data to features and target then dvide them into training set, validation set and test set 70%, 15%, 15% respectively \n"
   ]
  },
  {
   "cell_type": "code",
   "execution_count": 140,
   "id": "3aeefe5ca3eff83b",
   "metadata": {
    "ExecuteTime": {
     "end_time": "2024-10-27T15:57:19.207527Z",
     "start_time": "2024-10-27T15:57:19.186512Z"
    }
   },
   "outputs": [
    {
     "name": "stdout",
     "output_type": "stream",
     "text": [
      "Training set size = 14448\n",
      "Validation set size = 3096\n",
      "Test set size = 3096\n"
     ]
    }
   ],
   "source": [
    "features = data.drop('Median_House_Value', axis=1)\n",
    "target = data['Median_House_Value']\n",
    "features_train, features_vald_test, target_train, target_vald_test = train_test_split(features, target, test_size=0.3, random_state=30)\n",
    "features_vald, features_test, target_vald, target_test = train_test_split(features_vald_test, target_vald_test, test_size=0.5, random_state=30)\n",
    "print(f'Training set size = {features_train.shape[0]}')\n",
    "print(f'Validation set size = {features_vald.shape[0]}')\n",
    "print(f'Test set size = {features_test.shape[0]}')"
   ]
  },
  {
   "cell_type": "markdown",
   "id": "8371c650",
   "metadata": {},
   "source": [
    "Normalizing data due to range in values\n"
   ]
  },
  {
   "cell_type": "code",
   "execution_count": 141,
   "id": "10e17cbb47c5b8af",
   "metadata": {
    "ExecuteTime": {
     "end_time": "2024-10-27T15:57:20.172367Z",
     "start_time": "2024-10-27T15:57:20.146364Z"
    }
   },
   "outputs": [],
   "source": [
    "scaler = StandardScaler()\n",
    "features_train = scaler.fit_transform(features_train)\n",
    "features_vald = scaler.transform(features_vald)\n",
    "features_test = scaler.transform(features_test)"
   ]
  },
  {
   "cell_type": "markdown",
   "id": "a797ddbf",
   "metadata": {},
   "source": [
    "creating linear regression model and predict the output of validation and test sets"
   ]
  },
  {
   "cell_type": "code",
   "execution_count": 142,
   "id": "d7110ff5962a95ce",
   "metadata": {
    "ExecuteTime": {
     "end_time": "2024-10-27T15:58:22.075754Z",
     "start_time": "2024-10-27T15:58:22.049225Z"
    }
   },
   "outputs": [],
   "source": [
    "model = LinearRegression()\n",
    "model.fit(features_train, target_train)\n",
    "predictions_val = model.predict(features_vald)\n",
    "predictions_test = model.predict(features_test)"
   ]
  },
  {
   "cell_type": "markdown",
   "id": "7d3c2da9",
   "metadata": {},
   "source": [
    "Calculating MSE and MAE for the validation set outputs "
   ]
  },
  {
   "cell_type": "code",
   "execution_count": 143,
   "id": "8194999d5d849465",
   "metadata": {
    "ExecuteTime": {
     "end_time": "2024-10-27T15:59:09.533060Z",
     "start_time": "2024-10-27T15:59:09.524490Z"
    }
   },
   "outputs": [],
   "source": [
    "mae_val = mean_absolute_error(target_vald, predictions_val)\n",
    "mse_val = mean_squared_error(target_vald, predictions_val)"
   ]
  },
  {
   "cell_type": "markdown",
   "id": "c2dba057",
   "metadata": {},
   "source": [
    "Calculating MSE and MAE for the test set outputs "
   ]
  },
  {
   "cell_type": "code",
   "execution_count": 144,
   "id": "c32feb885c46b864",
   "metadata": {
    "ExecuteTime": {
     "end_time": "2024-10-27T15:59:20.204916Z",
     "start_time": "2024-10-27T15:59:20.197609Z"
    }
   },
   "outputs": [],
   "source": [
    "mae_test = mean_absolute_error(target_test, predictions_test)\n",
    "mse_test = mean_squared_error(target_test, predictions_test)"
   ]
  },
  {
   "cell_type": "markdown",
   "id": "050ce003",
   "metadata": {},
   "source": [
    "Printing the values \n"
   ]
  },
  {
   "cell_type": "code",
   "execution_count": 145,
   "id": "91ad21c219f9855a",
   "metadata": {
    "ExecuteTime": {
     "end_time": "2024-10-27T15:59:53.915891Z",
     "start_time": "2024-10-27T15:59:53.912675Z"
    }
   },
   "outputs": [
    {
     "name": "stdout",
     "output_type": "stream",
     "text": [
      "Validation MAE = 52383.55863950708\n",
      "Test MAE = 50322.28933544367\n",
      "Validation MSE = 5448495356.8047\n",
      "Test MSE = 4932147504.842557\n",
      "Mean Target Value: 206855.81690891474\n",
      "MAE as percentage of mean target: 25.32%\n"
     ]
    }
   ],
   "source": [
    "print(f'Validation MAE = {mae_val}')\n",
    "print(f'Test MAE = {mae_test}')\n",
    "print(f'Validation MSE = {mse_val}')\n",
    "print(f'Test MSE = {mse_test}')\n",
    "print(f'Mean Target Value: {target.mean()}')  # Print mean target value for reference\n",
    "print(f'MAE as percentage of mean target: {mae_val / target.mean() * 100:.2f}%')  # Relative error\n"
   ]
  },
  {
   "cell_type": "markdown",
   "id": "ff77ae84",
   "metadata": {},
   "source": [
    "Creating Lasso model using LassoCV for performing Lasso regression with built-in cross-validation to select the optimal regularization parameter (alpha)"
   ]
  },
  {
   "cell_type": "code",
   "execution_count": 146,
   "id": "6821ece41426c810",
   "metadata": {},
   "outputs": [
    {
     "name": "stdout",
     "output_type": "stream",
     "text": [
      "Best alpha for Lasso: 0.25\n"
     ]
    }
   ],
   "source": [
    "lasso_cv = LassoCV(alphas=[0.1, 0.25, 0.5, 0.75, 1.0], cv= 5, max_iter=5000)\n",
    "lasso_cv.fit(features_train, target_train)\n",
    "print(\"Best alpha for Lasso:\", lasso_cv.alpha_)\n"
   ]
  },
  {
   "cell_type": "markdown",
   "id": "5cc891ff",
   "metadata": {},
   "source": [
    "predict the outputs of the test and validation set\n"
   ]
  },
  {
   "cell_type": "code",
   "execution_count": 147,
   "id": "dbc28ce8",
   "metadata": {},
   "outputs": [],
   "source": [
    "predictions_val = lasso_cv.predict(features_vald)\n",
    "predictions_test = lasso_cv.predict(features_test)"
   ]
  },
  {
   "cell_type": "markdown",
   "id": "71b90e75",
   "metadata": {},
   "source": [
    "Calculation MSE and MAE for test and validation set \n"
   ]
  },
  {
   "cell_type": "code",
   "execution_count": 148,
   "id": "82de23c8",
   "metadata": {},
   "outputs": [
    {
     "name": "stdout",
     "output_type": "stream",
     "text": [
      "lasso Regression validation MSE: 5448461381.833978\n",
      "Lasso Regression validation MAE: 52383.731782164235\n",
      "lasso Regression test MSE: 4932101067.664037\n",
      "Lasso Regression test MAE: 50322.27441944892\n",
      "Mean Target Value: 206855.81690891474\n",
      "MAE as percentage of mean target: 24.33%\n"
     ]
    }
   ],
   "source": [
    "mae_val = mean_absolute_error(target_vald, predictions_val)\n",
    "mse_val = mean_squared_error(target_vald, predictions_val)\n",
    "mae_test = mean_absolute_error(target_test, predictions_test)\n",
    "mse_test = mean_squared_error(target_test, predictions_test)\n",
    "print(\"lasso Regression validation MSE:\", mse_val)\n",
    "print(\"Lasso Regression validation MAE:\", mae_val)\n",
    "print(\"lasso Regression test MSE:\", mse_test)\n",
    "print(\"Lasso Regression test MAE:\", mae_test)\n",
    "print(f'Mean Target Value: {target.mean()}')  # Print mean target value for reference\n",
    "print(f'MAE as percentage of mean target: {mae_test / target.mean() * 100:.2f}%')  # Relative error"
   ]
  },
  {
   "cell_type": "markdown",
   "id": "c64827bc",
   "metadata": {},
   "source": [
    "Error deacresed due to regularization of the model\n"
   ]
  },
  {
   "cell_type": "markdown",
   "id": "52cde207",
   "metadata": {},
   "source": [
    "Creating Ridge\n",
    " model and choosing the best alpha using cross validation"
   ]
  },
  {
   "cell_type": "code",
   "execution_count": 149,
   "id": "32432cad",
   "metadata": {},
   "outputs": [
    {
     "name": "stdout",
     "output_type": "stream",
     "text": [
      "Best alpha for Ridge: 0.75\n"
     ]
    }
   ],
   "source": [
    "ridge_cv = RidgeCV(alphas=[0.1, 0.25, 0.5, 0.75, 1.0], cv= 5)\n",
    "ridge_cv.fit(features_train, target_train)\n",
    "print(\"Best alpha for Ridge:\", ridge_cv.alpha_)"
   ]
  },
  {
   "cell_type": "markdown",
   "id": "8483a072",
   "metadata": {},
   "source": [
    "predict the outputs of the test and validation set"
   ]
  },
  {
   "cell_type": "code",
   "execution_count": 125,
   "id": "8e351902",
   "metadata": {},
   "outputs": [],
   "source": [
    "predictions_val = lasso_cv.predict(features_vald)\n",
    "predictions_test = lasso_cv.predict(features_test)\n"
   ]
  },
  {
   "cell_type": "markdown",
   "id": "6b7d2304",
   "metadata": {},
   "source": [
    "Calculation MSE and MAE for test and validation set for Ridge Regression\n"
   ]
  },
  {
   "cell_type": "code",
   "execution_count": 126,
   "id": "476bed78",
   "metadata": {},
   "outputs": [
    {
     "name": "stdout",
     "output_type": "stream",
     "text": [
      "Ridge Regression validation MSE: 5448461381.833978\n",
      "Ridge Regression validation MAE: 52383.731782164235\n",
      "Ridge Regression test MSE: 4932101067.664037\n",
      "Ridge Regression test MAE: 50322.27441944892\n",
      "Mean Target Value: 206855.81690891474\n",
      "MAE as percentage of mean target: 24.33%\n"
     ]
    }
   ],
   "source": [
    "mae_val = mean_absolute_error(target_vald, predictions_val)\n",
    "mse_val = mean_squared_error(target_vald, predictions_val)\n",
    "mae_test = mean_absolute_error(target_test, predictions_test)\n",
    "mse_test = mean_squared_error(target_test, predictions_test)\n",
    "print(\"Ridge Regression validation MSE:\", mse_val)\n",
    "print(\"Ridge Regression validation MAE:\", mae_val)\n",
    "print(\"Ridge Regression test MSE:\", mse_test)\n",
    "print(\"Ridge Regression test MAE:\", mae_test)\n",
    "print(f'Mean Target Value: {target.mean()}')  # Print mean target value for reference\n",
    "print(f'MAE as percentage of mean target: {mae_test / target.mean() * 100:.2f}%')  # Relative error"
   ]
  },
  {
   "cell_type": "markdown",
   "id": "188ec805",
   "metadata": {},
   "source": [
    "Error for ridge is the same as the error of lasso regression (both are smaller than linear regression) due to their ability to handle issues like overfitting and multicollinearity using regularization (lasso uses L1 regularization and ridge uses L2 regularization)"
   ]
  }
 ],
 "metadata": {
  "kernelspec": {
   "display_name": "Python 3",
   "language": "python",
   "name": "python3"
  },
  "language_info": {
   "codemirror_mode": {
    "name": "ipython",
    "version": 3
   },
   "file_extension": ".py",
   "mimetype": "text/x-python",
   "name": "python",
   "nbconvert_exporter": "python",
   "pygments_lexer": "ipython3",
   "version": "3.12.4"
  }
 },
 "nbformat": 4,
 "nbformat_minor": 5
}
