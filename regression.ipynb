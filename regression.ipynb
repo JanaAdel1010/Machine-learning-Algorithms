{
 "cells": [
  {
   "metadata": {},
   "cell_type": "markdown",
   "source": "California Houses price Regression model",
   "id": "1bac9ae982ccf50f"
  },
  {
   "metadata": {
    "ExecuteTime": {
     "end_time": "2024-10-27T15:57:17.733484Z",
     "start_time": "2024-10-27T15:57:17.730094Z"
    }
   },
   "cell_type": "code",
   "source": [
    "import pandas as pd\n",
    "import numpy as np\n",
    "from sklearn.linear_model import LinearRegression\n",
    "from sklearn.metrics import mean_squared_error\n",
    "from sklearn.model_selection import train_test_split\n",
    "from sklearn.metrics import mean_absolute_error\n",
    "from sklearn.preprocessing import StandardScaler \n"
   ],
   "id": "e93c5e249cbae2fb",
   "outputs": [],
   "execution_count": 8
  },
  {
   "metadata": {
    "ExecuteTime": {
     "end_time": "2024-10-27T15:57:18.697690Z",
     "start_time": "2024-10-27T15:57:18.644853Z"
    }
   },
   "cell_type": "code",
   "source": [
    "data = pd.read_csv('California_Houses.csv', header=0)\n",
    "print(data.head())"
   ],
   "id": "92fa38c791da33f5",
   "outputs": [
    {
     "name": "stdout",
     "output_type": "stream",
     "text": [
      "   Median_House_Value  Median_Income  Median_Age  Tot_Rooms  Tot_Bedrooms  \\\n",
      "0            452600.0         8.3252          41        880           129   \n",
      "1            358500.0         8.3014          21       7099          1106   \n",
      "2            352100.0         7.2574          52       1467           190   \n",
      "3            341300.0         5.6431          52       1274           235   \n",
      "4            342200.0         3.8462          52       1627           280   \n",
      "\n",
      "   Population  Households  Latitude  Longitude  Distance_to_coast  \\\n",
      "0         322         126     37.88    -122.23        9263.040773   \n",
      "1        2401        1138     37.86    -122.22       10225.733072   \n",
      "2         496         177     37.85    -122.24        8259.085109   \n",
      "3         558         219     37.85    -122.25        7768.086571   \n",
      "4         565         259     37.85    -122.25        7768.086571   \n",
      "\n",
      "   Distance_to_LA  Distance_to_SanDiego  Distance_to_SanJose  \\\n",
      "0   556529.158342         735501.806984         67432.517001   \n",
      "1   554279.850069         733236.884360         65049.908574   \n",
      "2   554610.717069         733525.682937         64867.289833   \n",
      "3   555194.266086         734095.290744         65287.138412   \n",
      "4   555194.266086         734095.290744         65287.138412   \n",
      "\n",
      "   Distance_to_SanFrancisco  \n",
      "0              21250.213767  \n",
      "1              20880.600400  \n",
      "2              18811.487450  \n",
      "3              18031.047568  \n",
      "4              18031.047568  \n"
     ]
    }
   ],
   "execution_count": 9
  },
  {
   "metadata": {
    "ExecuteTime": {
     "end_time": "2024-10-27T15:57:19.207527Z",
     "start_time": "2024-10-27T15:57:19.186512Z"
    }
   },
   "cell_type": "code",
   "source": [
    "features = data.drop('Median_House_Value', axis=1)\n",
    "target = data['Median_House_Value']\n",
    "features_train, features_vald_test, target_train, target_vald_test = train_test_split(features, target, test_size=0.3)\n",
    "features_vald, features_test, target_vald, target_test = train_test_split(features_vald_test, target_vald_test, test_size=0.5)\n",
    "print(f'Training set size = {features_train.shape[0]}')\n",
    "print(f'Validation set size = {features_vald.shape[0]}')\n",
    "print(f'Test set size = {features_test.shape[0]}')"
   ],
   "id": "3aeefe5ca3eff83b",
   "outputs": [
    {
     "name": "stdout",
     "output_type": "stream",
     "text": [
      "Training set size = 14448\n",
      "Validation set size = 3096\n",
      "Test set size = 3096\n"
     ]
    }
   ],
   "execution_count": 10
  },
  {
   "metadata": {
    "ExecuteTime": {
     "end_time": "2024-10-27T15:57:20.172367Z",
     "start_time": "2024-10-27T15:57:20.146364Z"
    }
   },
   "cell_type": "code",
   "source": [
    "scaler = StandardScaler()\n",
    "features_train = scaler.fit_transform(features_train)\n",
    "features_vald = scaler.transform(features_vald)\n",
    "features_test = scaler.transform(features_test)"
   ],
   "id": "10e17cbb47c5b8af",
   "outputs": [],
   "execution_count": 11
  },
  {
   "metadata": {
    "ExecuteTime": {
     "end_time": "2024-10-27T15:58:22.075754Z",
     "start_time": "2024-10-27T15:58:22.049225Z"
    }
   },
   "cell_type": "code",
   "source": [
    "model = LinearRegression()\n",
    "model.fit(features_train, target_train)\n",
    "predictions_val = model.predict(features_vald)\n",
    "predictions_test = model.predict(features_test)"
   ],
   "id": "d7110ff5962a95ce",
   "outputs": [],
   "execution_count": 12
  },
  {
   "metadata": {
    "ExecuteTime": {
     "end_time": "2024-10-27T15:59:09.533060Z",
     "start_time": "2024-10-27T15:59:09.524490Z"
    }
   },
   "cell_type": "code",
   "source": [
    "mae_value = mean_absolute_error(target_vald, predictions_val)\n",
    "mse_value = mean_squared_error(target_vald, predictions_val)\n"
   ],
   "id": "8194999d5d849465",
   "outputs": [],
   "execution_count": 13
  },
  {
   "metadata": {
    "ExecuteTime": {
     "end_time": "2024-10-27T15:59:20.204916Z",
     "start_time": "2024-10-27T15:59:20.197609Z"
    }
   },
   "cell_type": "code",
   "source": [
    "mae_test = mean_absolute_error(target_test, predictions_test)\n",
    "mse_test = mean_squared_error(target_test, predictions_test)\n"
   ],
   "id": "c32feb885c46b864",
   "outputs": [],
   "execution_count": 14
  },
  {
   "metadata": {
    "ExecuteTime": {
     "end_time": "2024-10-27T15:59:53.915891Z",
     "start_time": "2024-10-27T15:59:53.912675Z"
    }
   },
   "cell_type": "code",
   "source": [
    "print(f'Validation MAE = {mae_value}')\n",
    "print(f'Test MAE = {mae_test}')\n",
    "print(f'Validation MSE = {mse_value}')\n",
    "print(f'Test MSE = {mse_test}')\n"
   ],
   "id": "91ad21c219f9855a",
   "outputs": [
    {
     "name": "stdout",
     "output_type": "stream",
     "text": [
      "Validation MAE = 50069.69059673075\n",
      "Test MAE = 48776.05476889484\n",
      "Validation MSE = 4776891309.612383\n",
      "Test MSE = 4594161793.363739\n"
     ]
    }
   ],
   "execution_count": 15
  },
  {
   "metadata": {},
   "cell_type": "code",
   "outputs": [],
   "execution_count": null,
   "source": "",
   "id": "6821ece41426c810"
  }
 ],
 "metadata": {
  "kernelspec": {
   "display_name": "Python 3",
   "language": "python",
   "name": "python3"
  },
  "language_info": {
   "codemirror_mode": {
    "name": "ipython",
    "version": 2
   },
   "file_extension": ".py",
   "mimetype": "text/x-python",
   "name": "python",
   "nbconvert_exporter": "python",
   "pygments_lexer": "ipython2",
   "version": "2.7.6"
  }
 },
 "nbformat": 4,
 "nbformat_minor": 5
}
