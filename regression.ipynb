{
 "cells": [
  {
   "metadata": {},
   "cell_type": "markdown",
   "source": "California houses Regression model",
   "id": "1bac9ae982ccf50f"
  },
  {
   "metadata": {
    "ExecuteTime": {
     "end_time": "2024-10-27T15:31:36.381295Z",
     "start_time": "2024-10-27T15:31:35.545046Z"
    }
   },
   "cell_type": "code",
   "source": [
    "import pandas as pd\n",
    "import numpy as np\n",
    "from sklearn.linear_model import LinearRegression\n",
    "from sklearn.metrics import mean_squared_error\n",
    "from sklearn.model_selection import train_test_split\n",
    "from sklearn.metrics import mean_absolute_error"
   ],
   "id": "e93c5e249cbae2fb",
   "outputs": [],
   "execution_count": 1
  },
  {
   "metadata": {
    "ExecuteTime": {
     "end_time": "2024-10-27T15:31:37.811320Z",
     "start_time": "2024-10-27T15:31:37.764338Z"
    }
   },
   "cell_type": "code",
   "source": [
    "data = pd.read_csv('California_Houses.csv', header=0)\n",
    "print(data.head())"
   ],
   "id": "92fa38c791da33f5",
   "outputs": [
    {
     "name": "stdout",
     "output_type": "stream",
     "text": [
      "   Median_House_Value  Median_Income  Median_Age  Tot_Rooms  Tot_Bedrooms  \\\n",
      "0            452600.0         8.3252          41        880           129   \n",
      "1            358500.0         8.3014          21       7099          1106   \n",
      "2            352100.0         7.2574          52       1467           190   \n",
      "3            341300.0         5.6431          52       1274           235   \n",
      "4            342200.0         3.8462          52       1627           280   \n",
      "\n",
      "   Population  Households  Latitude  Longitude  Distance_to_coast  \\\n",
      "0         322         126     37.88    -122.23        9263.040773   \n",
      "1        2401        1138     37.86    -122.22       10225.733072   \n",
      "2         496         177     37.85    -122.24        8259.085109   \n",
      "3         558         219     37.85    -122.25        7768.086571   \n",
      "4         565         259     37.85    -122.25        7768.086571   \n",
      "\n",
      "   Distance_to_LA  Distance_to_SanDiego  Distance_to_SanJose  \\\n",
      "0   556529.158342         735501.806984         67432.517001   \n",
      "1   554279.850069         733236.884360         65049.908574   \n",
      "2   554610.717069         733525.682937         64867.289833   \n",
      "3   555194.266086         734095.290744         65287.138412   \n",
      "4   555194.266086         734095.290744         65287.138412   \n",
      "\n",
      "   Distance_to_SanFrancisco  \n",
      "0              21250.213767  \n",
      "1              20880.600400  \n",
      "2              18811.487450  \n",
      "3              18031.047568  \n",
      "4              18031.047568  \n"
     ]
    }
   ],
   "execution_count": 2
  },
  {
   "metadata": {
    "ExecuteTime": {
     "end_time": "2024-10-27T15:31:38.780224Z",
     "start_time": "2024-10-27T15:31:38.759690Z"
    }
   },
   "cell_type": "code",
   "source": [
    "features = data.drop('Median_House_Value', axis=1)\n",
    "target = data['Median_House_Value']\n",
    "features_train, features_vald_test, target_train, target_vald_test = train_test_split(features, target, test_size=0.3)\n",
    "features_vald, features_test, target_vald, target_test = train_test_split(features_vald_test, target_vald_test, test_size=0.5)\n",
    "print(f'Training set size = {features_train.shape[0]}')\n",
    "print(f'Validation set size = {features_vald.shape[0]}')\n",
    "print(f'Test set size = {features_test.shape[0]}')"
   ],
   "id": "3aeefe5ca3eff83b",
   "outputs": [
    {
     "name": "stdout",
     "output_type": "stream",
     "text": [
      "Training set size = 14448\n",
      "Validation set size = 3096\n",
      "Test set size = 3096\n"
     ]
    }
   ],
   "execution_count": 3
  },
  {
   "metadata": {},
   "cell_type": "code",
   "outputs": [],
   "execution_count": null,
   "source": "",
   "id": "10e17cbb47c5b8af"
  }
 ],
 "metadata": {
  "kernelspec": {
   "display_name": "Python 3",
   "language": "python",
   "name": "python3"
  },
  "language_info": {
   "codemirror_mode": {
    "name": "ipython",
    "version": 2
   },
   "file_extension": ".py",
   "mimetype": "text/x-python",
   "name": "python",
   "nbconvert_exporter": "python",
   "pygments_lexer": "ipython2",
   "version": "2.7.6"
  }
 },
 "nbformat": 4,
 "nbformat_minor": 5
}
