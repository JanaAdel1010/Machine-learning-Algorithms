{
 "cells": [
  {
   "cell_type": "markdown",
   "metadata": {},
   "source": [
    "Magic Gamma Telescope Classification Problem"
   ]
  },
  {
   "cell_type": "code",
   "execution_count": 3,
   "metadata": {},
   "outputs": [],
   "source": [
    "import pandas as pd\n",
    "from sklearn.utils import resample\n",
    "from sklearn.model_selection import train_test_split\n",
    "from sklearn.neighbors import KNeighborsClassifier\n",
    "from sklearn.metrics import accuracy_score, classification_report, confusion_matrix\n",
    "from sklearn.preprocessing import StandardScaler"
   ]
  },
  {
   "cell_type": "code",
   "execution_count": 2,
   "metadata": {},
   "outputs": [],
   "source": [
    "data=pd.read_csv(\"magic04.data\",delimiter=',',header=None)"
   ]
  },
  {
   "cell_type": "code",
   "execution_count": 4,
   "metadata": {},
   "outputs": [
    {
     "name": "stdout",
     "output_type": "stream",
     "text": [
      "   feature1  feature2  feature3  feature4  feature5  feature6  feature7  \\\n",
      "0   28.7967   16.0021    2.6449    0.3918    0.1982   27.7004   22.0110   \n",
      "1   31.6036   11.7235    2.5185    0.5303    0.3773   26.2722   23.8238   \n",
      "2  162.0520  136.0310    4.0612    0.0374    0.0187  116.7410  -64.8580   \n",
      "3   23.8172    9.5728    2.3385    0.6147    0.3922   27.2107   -6.4633   \n",
      "4   75.1362   30.9205    3.1611    0.3168    0.1832   -5.5277   28.5525   \n",
      "\n",
      "   feature8  feature9  feature10  target  \n",
      "0   -8.2027   40.0920    81.8828       1  \n",
      "1   -9.9574    6.3609   205.2610       1  \n",
      "2  -45.2160   76.9600   256.7880       1  \n",
      "3   -7.1513   10.4490   116.7370       1  \n",
      "4   21.8393    4.6480   356.4620       1  \n"
     ]
    }
   ],
   "source": [
    "data.columns=[f'feature{i}' for i in range(1,11)] + ['target']\n",
    "data['target']=data['target'].map({'g':1,'h':0}).values\n",
    "print(data.head())"
   ]
  },
  {
   "cell_type": "code",
   "execution_count": 5,
   "metadata": {},
   "outputs": [
    {
     "name": "stdout",
     "output_type": "stream",
     "text": [
      "target\n",
      "0    6688\n",
      "1    6688\n",
      "Name: count, dtype: int64\n"
     ]
    }
   ],
   "source": [
    "class_h=data[data['target']==0]\n",
    "class_g=data[data['target']==1]\n",
    "numofh=class_h.shape[0]\n",
    "class_g_balanced = resample(class_g, replace=False,n_samples=numofh,random_state=42) \n",
    "data_balanced=pd.concat([class_h,class_g_balanced])\n",
    "print(data_balanced['target'].value_counts())"
   ]
  },
  {
   "cell_type": "code",
   "execution_count": 6,
   "metadata": {},
   "outputs": [
    {
     "name": "stdout",
     "output_type": "stream",
     "text": [
      "Training set size: 9363\n",
      "Validation set size: 2006\n",
      "Testing set size: 2007\n"
     ]
    }
   ],
   "source": [
    "features=data_balanced.drop('target',axis=1)\n",
    "targets=data_balanced['target']\n",
    "features_train,features_vald_test,target_train,target_vald_test=train_test_split(features,targets,test_size=0.3)\n",
    "features_vald,features_test,target_vald,target_test=train_test_split(features_vald_test,target_vald_test,test_size=0.5)\n",
    "print(f'Training set size: {features_train.shape[0]}')\n",
    "print(f'Validation set size: {features_vald.shape[0]}')\n",
    "print(f'Testing set size: {features_test.shape[0]}')"
   ]
  },
  {
   "cell_type": "code",
   "execution_count": 7,
   "metadata": {},
   "outputs": [],
   "source": [
    "scale=StandardScaler()\n",
    "features_train = scale.fit_transform(features_train)\n",
    "features_vald = scale.transform(features_vald)\n",
    "features_test = scale.transform(features_test)"
   ]
  },
  {
   "cell_type": "code",
   "execution_count": 8,
   "metadata": {},
   "outputs": [
    {
     "name": "stdout",
     "output_type": "stream",
     "text": [
      "prediction:[0 1 1 ... 1 1 1]\n",
      "actual value:16088    0\n",
      "4950     1\n",
      "1617     1\n",
      "17036    0\n",
      "15518    0\n",
      "        ..\n",
      "12469    0\n",
      "15673    0\n",
      "792      1\n",
      "7503     1\n",
      "5812     1\n",
      "Name: target, Length: 2006, dtype: int64\n",
      "accuarcy for k=1 on validation set: 0.7861\n",
      "prediction:[0 0 1 ... 1 1 1]\n",
      "actual value:16088    0\n",
      "4950     1\n",
      "1617     1\n",
      "17036    0\n",
      "15518    0\n",
      "        ..\n",
      "12469    0\n",
      "15673    0\n",
      "792      1\n",
      "7503     1\n",
      "5812     1\n",
      "Name: target, Length: 2006, dtype: int64\n",
      "accuarcy for k=4 on validation set: 0.7866\n",
      "prediction:[0 1 1 ... 1 0 1]\n",
      "actual value:16088    0\n",
      "4950     1\n",
      "1617     1\n",
      "17036    0\n",
      "15518    0\n",
      "        ..\n",
      "12469    0\n",
      "15673    0\n",
      "792      1\n",
      "7503     1\n",
      "5812     1\n",
      "Name: target, Length: 2006, dtype: int64\n",
      "accuarcy for k=7 on validation set: 0.8136\n",
      "prediction:[0 1 1 ... 1 0 1]\n",
      "actual value:16088    0\n",
      "4950     1\n",
      "1617     1\n",
      "17036    0\n",
      "15518    0\n",
      "        ..\n",
      "12469    0\n",
      "15673    0\n",
      "792      1\n",
      "7503     1\n",
      "5812     1\n",
      "Name: target, Length: 2006, dtype: int64\n",
      "accuarcy for k=10 on validation set: 0.8036\n",
      "prediction:[0 0 1 ... 1 0 1]\n",
      "actual value:16088    0\n",
      "4950     1\n",
      "1617     1\n",
      "17036    0\n",
      "15518    0\n",
      "        ..\n",
      "12469    0\n",
      "15673    0\n",
      "792      1\n",
      "7503     1\n",
      "5812     1\n",
      "Name: target, Length: 2006, dtype: int64\n",
      "accuarcy for k=13 on validation set: 0.8086\n",
      "prediction:[0 0 0 ... 1 1 1]\n",
      "actual value:16088    0\n",
      "4950     1\n",
      "1617     1\n",
      "17036    0\n",
      "15518    0\n",
      "        ..\n",
      "12469    0\n",
      "15673    0\n",
      "792      1\n",
      "7503     1\n",
      "5812     1\n",
      "Name: target, Length: 2006, dtype: int64\n",
      "accuarcy for k=16 on validation set: 0.8116\n",
      "prediction:[0 1 1 ... 1 1 1]\n",
      "actual value:16088    0\n",
      "4950     1\n",
      "1617     1\n",
      "17036    0\n",
      "15518    0\n",
      "        ..\n",
      "12469    0\n",
      "15673    0\n",
      "792      1\n",
      "7503     1\n",
      "5812     1\n",
      "Name: target, Length: 2006, dtype: int64\n",
      "accuarcy for k=19 on validation set: 0.8101\n"
     ]
    }
   ],
   "source": [
    "for k in range(1,21,3):\n",
    "    knn=KNeighborsClassifier(n_neighbors=k)\n",
    "    knn.fit(features_train,target_train)\n",
    "    target_predict=knn.predict(features_vald)\n",
    "    score=accuracy_score(target_vald,target_predict)\n",
    "    print(f'prediction:{target_predict}')\n",
    "    print(f'actual value:{target_vald}')\n",
    "    print(f'accuarcy for k={k} on validation set: {score:.4f}')"
   ]
  },
  {
   "cell_type": "code",
   "execution_count": null,
   "metadata": {},
   "outputs": [],
   "source": []
  }
 ],
 "metadata": {
  "kernelspec": {
   "display_name": "Python 3",
   "language": "python",
   "name": "python3"
  },
  "language_info": {
   "codemirror_mode": {
    "name": "ipython",
    "version": 3
   },
   "file_extension": ".py",
   "mimetype": "text/x-python",
   "name": "python",
   "nbconvert_exporter": "python",
   "pygments_lexer": "ipython3",
   "version": "3.12.4"
  }
 },
 "nbformat": 4,
 "nbformat_minor": 2
}
